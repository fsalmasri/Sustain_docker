{
 "cells": [
  {
   "cell_type": "code",
   "execution_count": 111,
   "id": "15580c02-8780-40df-8989-6739310a1a18",
   "metadata": {},
   "outputs": [],
   "source": [
    "import numpy as np\n",
    "from os import walk, listdir\n",
    "from os.path import isfile, join, exists\n",
    "import pickle as pk\n",
    "import json\n",
    "\n",
    "from sklearn.decomposition import PCA\n",
    "from numpy.linalg import norm\n",
    "from sklearn.metrics.pairwise import cosine_similarity\n",
    "import matplotlib.pyplot as plt\n",
    "\n",
    "from utils import get_encoded_vectors, load_test_files"
   ]
  },
  {
   "cell_type": "code",
   "execution_count": 2,
   "id": "edeec23f-8445-4cac-af49-a842e8546241",
   "metadata": {},
   "outputs": [],
   "source": [
    "url = 'http://172.17.0.1:5000/'"
   ]
  },
  {
   "cell_type": "code",
   "execution_count": 45,
   "id": "1e75313d-7ab0-433a-a364-fe0a26ece40a",
   "metadata": {},
   "outputs": [],
   "source": [
    "def project_edata(edata, pca_model = 'None', pca_list = 'None', space_d=2):\n",
    "    #//TODO check if pca model exist, if no build new one. \n",
    "    if not exists(f'projection_models/{pca_model}.pkl'):\n",
    "        # load all test data\n",
    "        fnames, embeds = load_test_files(test_path = 'test_data')\n",
    "        \n",
    "        # construct pca model \n",
    "        pca = PCA(n_components=space_d)\n",
    "        pca.fit(embeds)       \n",
    "        # save model\n",
    "        pk.dump(pca, open(f'projection_models/{pca_model}.pkl', \"wb\"))\n",
    "        # project all test data and save them\n",
    "        t_pcas = pca.transform(embeds)\n",
    "        np.save(f'pca_projected_embdes/{pca_list}.npy', t_pcas)\n",
    "        np.save(f'pca_projected_embdes/{pca_list}_fnames.npy', fnames)\n",
    "        \n",
    "        # project test data using the same model\n",
    "        edata_pca = pca.transform(edata)\n",
    "        \n",
    "    else:\n",
    "        # load pca model\n",
    "        pca = pk.load(open(f'projection_models/{pca_model}.pkl', 'rb'))\n",
    "        # load projected test data\n",
    "        t_pcas = np.load(f'pca_projected_embdes/{pca_list}.npy')\n",
    "        fnames = np.load(f'pca_projected_embdes/{pca_list}_fnames.npy')\n",
    "        # project test data using the same model\n",
    "        edata_pca = pca.transform(edata)\n",
    "        \n",
    "    return edata_pca, t_pcas, fnames"
   ]
  },
  {
   "cell_type": "code",
   "execution_count": 193,
   "id": "2a98c379-5874-4ff1-a73a-c22b661bf3fe",
   "metadata": {},
   "outputs": [],
   "source": [
    "def calculate_distance(edata_pca, t_pcas, distance_fun='L1'):   \n",
    "       \n",
    "    if distance_fun =='L1' :\n",
    "        dist = abs(edata_pca - t_pcas).sum(axis=1)\n",
    "    elif distance_fun =='L2' :\n",
    "        dist = np.square(edata_pca - t_pcas).sum(axis=1)\n",
    "    elif distance_fun == 'RMSE' :\n",
    "        dist = np.sqrt(np.square(edata_pca - t_pcas).sum(axis=1))\n",
    "    elif distance_fun == 'cosine':\n",
    "        dist = 1 - cosine_similarity(edata_pca, t_pcas)[0]\n",
    "        # dist = (edata_pca @ t_pcas.T)/(norm(edata_pca)*norm(t_pcas))\n",
    "    \n",
    "    return dist"
   ]
  },
  {
   "cell_type": "code",
   "execution_count": 209,
   "id": "8052234f-761c-40da-8b36-0280ed24b5f9",
   "metadata": {},
   "outputs": [],
   "source": [
    "def find_similarities(edata, \n",
    "                      pca_model = 'None', pca_list = 'None', \n",
    "                      space_d=2, distance_fun='L1', n_candidates=3, plot=True):\n",
    "    \n",
    "    # Get PCA model, test projection, edata projection, files names\n",
    "    edata_pca, t_pcas, fnames = project_edata(edata, pca_model, pca_list, space_d)\n",
    "    \n",
    "    #//TODO measure similarity \n",
    "    distance = calculate_distance(edata_pca, t_pcas, distance_fun)\n",
    "    #//TODO return n of similar graphs.\n",
    "    min_locs = np.argsort(distance)\n",
    "    candidates_names = np.array(fnames)[min_locs[:n_candidates]]\n",
    "    candidates_dist = distance[min_locs[:n_candidates]]\n",
    "\n",
    "    if plot:\n",
    "        plt.figure(figsize=(10,10))\n",
    "        plt.scatter(t_pcas[min_locs[:n_candidates],0], t_pcas[min_locs[:n_candidates],1], c='blue')\n",
    "        plt.scatter(t_pcas[min_locs[n_candidates:],0], t_pcas[min_locs[n_candidates:],1], c='orange')\n",
    "        plt.scatter(edata_pca[0,0], edata_pca[0,1], c='red')\n",
    "        plt.show()\n",
    "        \n",
    "    \n",
    "    return candidates_names, candidates_dist"
   ]
  },
  {
   "cell_type": "code",
   "execution_count": 261,
   "id": "4ac7667d-38b6-46f1-8114-2fb27e3e954f",
   "metadata": {},
   "outputs": [
    {
     "data": {
      "image/png": "[encoded data removed]",
      "text/plain": [
       "<Figure size 720x720 with 1 Axes>"
      ]
     },
     "metadata": {
      "needs_background": "light"
     },
     "output_type": "display_data"
    },
    {
     "name": "stdout",
     "output_type": "stream",
     "text": [
      "['test_data/sanofi_v2/data_FLT_0009 (2).npy'\n",
      " 'test_data/sanofi_v2/data_FLT_0009 (1).npy'\n",
      " 'test_data/sanofi_v1/data_FLT_0009.npy'\n",
      " 'test_data/sanofi_v1/data_CNC_0028.npy'\n",
      " 'test_data/sanofi_v1/data_BETA_SMP_0001.npy'\n",
      " 'test_data/sanofi_v1/data_SMP_0003.npy'\n",
      " 'test_data/sanofi_v1/data_BETA_CNC_0002.npy'\n",
      " 'test_data/sanofi_v1/data_PMP_0035.npy'\n",
      " 'test_data/sanofi_v1/data_TEST_SBA_Demo 2.npy'\n",
      " 'test_data/sanofi_v1/data_SMP_0002.npy'\n",
      " 'test_data/sanofi_v1/data_PMP_0034.npy'\n",
      " 'test_data/sanofi_v1/data_CNC_0066.npy'\n",
      " 'test_data/sanofi_v1/data_CNC_0008.npy'\n",
      " 'test_data/sanofi_v1/data_FLT_0004.npy'\n",
      " 'test_data/sanofi_v1/data_PMP_0029.npy']\n",
      "[3.46195268e-08 4.31835723e-08 7.06142728e-07 6.97026613e+00\n",
      " 9.38223129e+00 1.06970941e+01 1.28471080e+01 1.40852492e+01\n",
      " 1.53540781e+01 1.62925089e+01 1.70208928e+01 1.80702452e+01\n",
      " 1.86702051e+01 1.97296292e+01 1.97551467e+01]\n"
     ]
    }
   ],
   "source": [
    "new_example = 'new-assemblies_13.10.2022-14.12.2022.json'\n",
    "f = open(new_example)\n",
    "data = json.load(f)\n",
    "\n",
    "input_id = 66\n",
    "inp_edges = data[input_id][\"Edges\"]\n",
    "\n",
    "if len(inp_edges) > 0:\n",
    "    encoded_data = get_encoded_vectors(url, data[input_id][\"Edges\"])['latent']\n",
    "    cnames, cdist = find_similarities(np.array(encoded_data)[None,:], pca_model = 'test1_trans', pca_list = 'test1_pcas', \n",
    "                                      space_d=2, distance_fun='L1', n_candidates=15, plot=True)\n",
    "\n",
    "    print(cnames)\n",
    "    print(cdist)"
   ]
  },
  {
   "cell_type": "code",
   "execution_count": null,
   "id": "31e726e3-1a5d-4ca4-92f4-6e9139b2fb30",
   "metadata": {},
   "outputs": [],
   "source": []
  },
  {
   "cell_type": "code",
   "execution_count": null,
   "id": "a2ef7219-ea0b-4bf6-afc9-bf3c80c02e67",
   "metadata": {},
   "outputs": [],
   "source": []
  }
 ],
 "metadata": {
  "kernelspec": {
   "display_name": "Python 3 (ipykernel)",
   "language": "python",
   "name": "python3"
  },
  "language_info": {
   "codemirror_mode": {
    "name": "ipython",
    "version": 3
   },
   "file_extension": ".py",
   "mimetype": "text/x-python",
   "name": "python",
   "nbconvert_exporter": "python",
   "pygments_lexer": "ipython3",
   "version": "3.9.7"
  }
 },
 "nbformat": 4,
 "nbformat_minor": 5
}
