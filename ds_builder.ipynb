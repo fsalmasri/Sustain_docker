{
 "cells": [
  {
   "cell_type": "code",
   "execution_count": 12,
   "id": "d709f26b-3e4e-41dc-a371-1ad75ecf96c1",
   "metadata": {},
   "outputs": [],
   "source": [
    "import json\n",
    "import requests\n",
    "import ast\n",
    "from os.path import isfile, join\n",
    "from os import listdir\n",
    "from tqdm import tqdm\n",
    "import numpy as np"
   ]
  },
  {
   "cell_type": "code",
   "execution_count": 13,
   "id": "80db7d30-dfc0-4763-a283-bfa4cf4f21e3",
   "metadata": {},
   "outputs": [],
   "source": [
    "url = 'http://172.17.0.1:5000/'\n",
    "fjson_v2 = 'new-assemblies_13.10.2022-14.12.2022.json'\n",
    "raw_path = '/home/feras/Desktop/Graphs_projects/Embedding/data/raw'\n",
    "cls_folder = ['Bioreactor', 'Mixer', 'Connexion']"
   ]
  },
  {
   "cell_type": "markdown",
   "id": "eb131455-f51f-42e1-9137-290861a75517",
   "metadata": {
    "tags": []
   },
   "source": [
    "# Encode all training samples in the latent space and save them in individual file\n",
    "# the naming is data_class_filename.npy   "
   ]
  },
  {
   "cell_type": "code",
   "execution_count": null,
   "id": "b8ca8fdf-13bd-4f79-aae3-405db81750c1",
   "metadata": {},
   "outputs": [
    {
     "name": "stderr",
     "output_type": "stream",
     "text": [
      " 15%|████▉                             | 68510/472392 [34:32<3:24:24, 32.93it/s]"
     ]
    }
   ],
   "source": [
    "for idx, clsf in enumerate(cls_folder):\n",
    "    p = join(raw_path, clsf)\n",
    "    data = listdir(p)\n",
    "    for gfile in tqdm(data, total=len(data)):\n",
    "        graph = np.load(join(p, gfile))\n",
    "        \n",
    "        #//TODO post request with json\n",
    "        # json_str = json.dumps({'Name': gfile, 'Edges': graph.tolist()})\n",
    "        \n",
    "        resp = requests.get(f'{url}/{graph.tolist()}/')\n",
    "        embed = resp.json()\n",
    "        np.save(f'data/data_{idx}_{gfile}', embed['latent'])\n",
    "                       "
   ]
  },
  {
   "cell_type": "code",
   "execution_count": null,
   "id": "73b9ead1-6879-49a7-b3bb-98fd5b761ef0",
   "metadata": {},
   "outputs": [],
   "source": [
    "# f = open(fjson_v2)\n",
    "# data = json.load(f)\n",
    "# for gfile in data:\n",
    "#         print(gfile)\n",
    "#         print(gfile[\"Edges\"])\n",
    "#         resp = requests.get(f'{url}/{gfile[\"Edges\"]}/')\n",
    "# #     # new_str = resp.content.decode('utf-8')\n",
    "#         print(resp.content)\n",
    "#         break"
   ]
  },
  {
   "cell_type": "code",
   "execution_count": null,
   "id": "f32dae67-e77d-408c-863f-c4d7cfe0fba7",
   "metadata": {},
   "outputs": [],
   "source": []
  },
  {
   "cell_type": "code",
   "execution_count": null,
   "id": "ebbccc5d-ecf4-4dae-b983-1ca83fbcf7f2",
   "metadata": {},
   "outputs": [],
   "source": []
  }
 ],
 "metadata": {
  "kernelspec": {
   "display_name": "Python 3 (ipykernel)",
   "language": "python",
   "name": "python3"
  },
  "language_info": {
   "codemirror_mode": {
    "name": "ipython",
    "version": 3
   },
   "file_extension": ".py",
   "mimetype": "text/x-python",
   "name": "python",
   "nbconvert_exporter": "python",
   "pygments_lexer": "ipython3",
   "version": "3.9.7"
  }
 },
 "nbformat": 4,
 "nbformat_minor": 5
}
