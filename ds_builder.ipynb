{
 "cells": [
  {
   "cell_type": "code",
   "execution_count": 12,
   "id": "d709f26b-3e4e-41dc-a371-1ad75ecf96c1",
   "metadata": {},
   "outputs": [],
   "source": [
    "import json\n",
    "import requests\n",
    "import ast\n",
    "from os.path import isfile, join\n",
    "from os import listdir\n",
    "from tqdm import tqdm\n",
    "import numpy as np"
   ]
  },
  {
   "cell_type": "code",
   "execution_count": 39,
   "id": "80db7d30-dfc0-4763-a283-bfa4cf4f21e3",
   "metadata": {},
   "outputs": [],
   "source": [
    "url = 'http://172.17.0.1:5000/'\n",
    "sanofi_v1 = '/home/feras/Desktop/Graphs_projects/Embedding/Sanofi DB/SustainSanofiDataV2/data'\n",
    "sanofi_v2 = 'new-assemblies_13.10.2022-14.12.2022.json'\n",
    "raw_path = '/home/feras/Desktop/Graphs_projects/Embedding/data/raw'\n",
    "cls_folder = ['Bioreactor', 'Mixer', 'Connexion']"
   ]
  },
  {
   "cell_type": "markdown",
   "id": "eb131455-f51f-42e1-9137-290861a75517",
   "metadata": {
    "tags": []
   },
   "source": [
    "### Encode all training samples in the latent space and save them in individual file\n",
    "### File naming is data_{class}_{filename}.npy   "
   ]
  },
  {
   "cell_type": "code",
   "execution_count": 37,
   "id": "b8ca8fdf-13bd-4f79-aae3-405db81750c1",
   "metadata": {},
   "outputs": [
    {
     "name": "stderr",
     "output_type": "stream",
     "text": [
      "100%|█████████████████████████████████| 472392/472392 [3:53:54<00:00, 33.66it/s]\n",
      "100%|███████████████████████████████████████| 1088/1088 [00:30<00:00, 35.53it/s]\n",
      "100%|██████████████████████████████| 1801966/1801966 [13:57:23<00:00, 35.86it/s]\n"
     ]
    }
   ],
   "source": [
    "for idx, clsf in enumerate(cls_folder):\n",
    "    p = join(raw_path, clsf)\n",
    "    data = listdir(p)\n",
    "    for gfile in tqdm(data, total=len(data)):\n",
    "        graph = np.load(join(p, gfile))\n",
    "        \n",
    "        #//TODO post request with json\n",
    "        # json_str = json.dumps({'Name': gfile, 'Edges': graph.tolist()})\n",
    "        \n",
    "        resp = requests.get(f'{url}/{graph.tolist()}/')\n",
    "        embed = resp.json()\n",
    "        np.save(f'data/data_{idx}_{gfile}', embed['latent'])               "
   ]
  },
  {
   "cell_type": "markdown",
   "id": "ce9ac1e8-8931-4917-af59-7ba6f16c781a",
   "metadata": {},
   "source": [
    "### Encode Sanofi data v1 in the latent space and save them in individual files.\n",
    "### File naming is data_{filename}.npy\n",
    "### we used a clean samples saves in npy instead of the json file."
   ]
  },
  {
   "cell_type": "code",
   "execution_count": 42,
   "id": "c38f5540-5daa-417f-90dc-912f9c3d8f44",
   "metadata": {},
   "outputs": [
    {
     "name": "stderr",
     "output_type": "stream",
     "text": [
      "100%|█████████████████████████████████████████| 123/123 [00:03<00:00, 34.98it/s]\n"
     ]
    }
   ],
   "source": [
    "data = listdir(sanofi_v1)\n",
    "for gfile in tqdm(data, total=len(data)):\n",
    "    graph = np.load(join(sanofi_v1, gfile))\n",
    "    resp = requests.get(f'{url}/{graph.tolist()}/')\n",
    "    embed = resp.json()\n",
    "    np.save(f'test_data/sanofi_v1/data_{gfile}', embed['latent'])               "
   ]
  },
  {
   "cell_type": "markdown",
   "id": "71d551d0-f6df-47e0-b4f5-35fe80b349fe",
   "metadata": {},
   "source": [
    "### Encode Sanofi data v2 in the latent space and save them in individual files.\n",
    "### File naming is data_{filename}.npy"
   ]
  },
  {
   "cell_type": "code",
   "execution_count": 55,
   "id": "f8336eb5-71c1-4fc2-b1c0-170fc7655178",
   "metadata": {},
   "outputs": [
    {
     "name": "stderr",
     "output_type": "stream",
     "text": [
      "100%|█████████████████████████████████████████| 106/106 [00:03<00:00, 34.28it/s]\n"
     ]
    }
   ],
   "source": [
    "f = open(fjson_v2)\n",
    "data = json.load(f)\n",
    "for gfile in tqdm(data, total=len(data)):\n",
    "    if len(gfile[\"Edges\"]) > 0:\n",
    "        resp = requests.get(f'{url}/{gfile[\"Edges\"]}/')\n",
    "        embed = resp.json()\n",
    "        np.save(f'test_data/sanofi_v2/data_{gfile[\"Name\"]}', embed['latent'])    \n"
   ]
  },
  {
   "cell_type": "code",
   "execution_count": null,
   "id": "f32dae67-e77d-408c-863f-c4d7cfe0fba7",
   "metadata": {},
   "outputs": [],
   "source": []
  },
  {
   "cell_type": "code",
   "execution_count": null,
   "id": "ebbccc5d-ecf4-4dae-b983-1ca83fbcf7f2",
   "metadata": {},
   "outputs": [],
   "source": []
  }
 ],
 "metadata": {
  "kernelspec": {
   "display_name": "Python 3 (ipykernel)",
   "language": "python",
   "name": "python3"
  },
  "language_info": {
   "codemirror_mode": {
    "name": "ipython",
    "version": 3
   },
   "file_extension": ".py",
   "mimetype": "text/x-python",
   "name": "python",
   "nbconvert_exporter": "python",
   "pygments_lexer": "ipython3",
   "version": "3.9.7"
  }
 },
 "nbformat": 4,
 "nbformat_minor": 5
}
